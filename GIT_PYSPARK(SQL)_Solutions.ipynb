{
  "nbformat": 4,
  "nbformat_minor": 0,
  "metadata": {
    "colab": {
      "provenance": [],
      "collapsed_sections": [
        "S0_UB2qVY5MP",
        "b-Z4dgVHZyKA"
      ]
    },
    "kernelspec": {
      "name": "python3",
      "display_name": "Python 3"
    },
    "language_info": {
      "name": "python"
    }
  },
  "cells": [
    {
      "cell_type": "markdown",
      "source": [
        "# Section 1 - Setting up the environment and loading the data."
      ],
      "metadata": {
        "id": "S0_UB2qVY5MP"
      }
    },
    {
      "cell_type": "code",
      "source": [
        "import pandas as pd\n",
        "import matplotlib.pyplot as plt\n",
        "import seaborn as sns"
      ],
      "metadata": {
        "id": "T7raYTezKs05"
      },
      "execution_count": 14,
      "outputs": []
    },
    {
      "cell_type": "code",
      "source": [
        "# setting up pyspark\n",
        "!pip install pyspark py4j"
      ],
      "metadata": {
        "colab": {
          "base_uri": "https://localhost:8080/"
        },
        "id": "RPRZZ_tnDL6-",
        "outputId": "05ecb022-8ce1-4d5e-f1c5-3da1c3d23c14"
      },
      "execution_count": 15,
      "outputs": [
        {
          "output_type": "stream",
          "name": "stdout",
          "text": [
            "Looking in indexes: https://pypi.org/simple, https://us-python.pkg.dev/colab-wheels/public/simple/\n",
            "Requirement already satisfied: pyspark in /usr/local/lib/python3.7/dist-packages (3.3.0)\n",
            "Requirement already satisfied: py4j in /usr/local/lib/python3.7/dist-packages (0.10.9.5)\n"
          ]
        }
      ]
    },
    {
      "cell_type": "code",
      "source": [
        "!pip install gdown"
      ],
      "metadata": {
        "colab": {
          "base_uri": "https://localhost:8080/"
        },
        "id": "xngvszmfBBdt",
        "outputId": "73e61758-94b7-4132-bcb0-7e311c9f9f35"
      },
      "execution_count": 16,
      "outputs": [
        {
          "output_type": "stream",
          "name": "stdout",
          "text": [
            "Looking in indexes: https://pypi.org/simple, https://us-python.pkg.dev/colab-wheels/public/simple/\n",
            "Requirement already satisfied: gdown in /usr/local/lib/python3.7/dist-packages (4.4.0)\n",
            "Requirement already satisfied: beautifulsoup4 in /usr/local/lib/python3.7/dist-packages (from gdown) (4.6.3)\n",
            "Requirement already satisfied: filelock in /usr/local/lib/python3.7/dist-packages (from gdown) (3.8.0)\n",
            "Requirement already satisfied: six in /usr/local/lib/python3.7/dist-packages (from gdown) (1.15.0)\n",
            "Requirement already satisfied: requests[socks] in /usr/local/lib/python3.7/dist-packages (from gdown) (2.23.0)\n",
            "Requirement already satisfied: tqdm in /usr/local/lib/python3.7/dist-packages (from gdown) (4.64.1)\n",
            "Requirement already satisfied: chardet<4,>=3.0.2 in /usr/local/lib/python3.7/dist-packages (from requests[socks]->gdown) (3.0.4)\n",
            "Requirement already satisfied: idna<3,>=2.5 in /usr/local/lib/python3.7/dist-packages (from requests[socks]->gdown) (2.10)\n",
            "Requirement already satisfied: urllib3!=1.25.0,!=1.25.1,<1.26,>=1.21.1 in /usr/local/lib/python3.7/dist-packages (from requests[socks]->gdown) (1.24.3)\n",
            "Requirement already satisfied: certifi>=2017.4.17 in /usr/local/lib/python3.7/dist-packages (from requests[socks]->gdown) (2022.9.24)\n",
            "Requirement already satisfied: PySocks!=1.5.7,>=1.5.6 in /usr/local/lib/python3.7/dist-packages (from requests[socks]->gdown) (1.7.1)\n"
          ]
        }
      ]
    },
    {
      "cell_type": "code",
      "source": [
        "import gdown"
      ],
      "metadata": {
        "id": "tca1fsQxBbtc"
      },
      "execution_count": 17,
      "outputs": []
    },
    {
      "cell_type": "markdown",
      "source": [
        "## Loading all the data."
      ],
      "metadata": {
        "id": "b-Z4dgVHZyKA"
      }
    },
    {
      "cell_type": "code",
      "source": [
        "# the required filed are downloaded fom the drive.\n",
        "gdown.download_folder(id='1u2vloKJHyiK9KBHrCrPbIUU_5NBPomU3')"
      ],
      "metadata": {
        "colab": {
          "base_uri": "https://localhost:8080/"
        },
        "id": "KhcS_l1xBc9M",
        "outputId": "b3f77227-43f2-494f-82d7-95bbd10377c6"
      },
      "execution_count": 18,
      "outputs": [
        {
          "output_type": "stream",
          "name": "stderr",
          "text": [
            "Retrieving folder list\n"
          ]
        },
        {
          "output_type": "stream",
          "name": "stdout",
          "text": [
            "Processing file 1HSaCckb7N8fLEF0GUslrXVggkYCxeETV Copy of chess_schema.png\n",
            "Processing file 1PA-ldUgQECq8fIw1oYtTWTA_OqYjgjD_ Copy of chess_wc_history_game_info.csv\n",
            "Processing file 1bJdq18isRDBvOizE27w4MI6oxbpEIymE Copy of chess_wc_history_moves.csv\n",
            "Processing file 1ahwShbVGYrVe9TGgu05uUREO5zH2Fln1 Copy of eco_codes.csv\n",
            "Building directory structure completed\n"
          ]
        },
        {
          "output_type": "stream",
          "name": "stderr",
          "text": [
            "Retrieving folder list completed\n",
            "Building directory structure\n",
            "Downloading...\n",
            "From: https://drive.google.com/uc?id=1HSaCckb7N8fLEF0GUslrXVggkYCxeETV\n",
            "To: /content/Files-Required/Copy of chess_schema.png\n",
            "100%|██████████| 295k/295k [00:00<00:00, 89.9MB/s]\n",
            "Downloading...\n",
            "From: https://drive.google.com/uc?id=1PA-ldUgQECq8fIw1oYtTWTA_OqYjgjD_\n",
            "To: /content/Files-Required/Copy of chess_wc_history_game_info.csv\n",
            "100%|██████████| 596k/596k [00:00<00:00, 79.5MB/s]\n",
            "Downloading...\n",
            "From: https://drive.google.com/uc?id=1bJdq18isRDBvOizE27w4MI6oxbpEIymE\n",
            "To: /content/Files-Required/Copy of chess_wc_history_moves.csv\n",
            "100%|██████████| 112M/112M [00:01<00:00, 103MB/s]\n",
            "Downloading...\n",
            "From: https://drive.google.com/uc?id=1ahwShbVGYrVe9TGgu05uUREO5zH2Fln1\n",
            "To: /content/Files-Required/Copy of eco_codes.csv\n",
            "100%|██████████| 45.6k/45.6k [00:00<00:00, 40.9MB/s]\n",
            "Download completed\n"
          ]
        },
        {
          "output_type": "execute_result",
          "data": {
            "text/plain": [
              "['/content/Files-Required/Copy of chess_schema.png',\n",
              " '/content/Files-Required/Copy of chess_wc_history_game_info.csv',\n",
              " '/content/Files-Required/Copy of chess_wc_history_moves.csv',\n",
              " '/content/Files-Required/Copy of eco_codes.csv']"
            ]
          },
          "metadata": {},
          "execution_count": 18
        }
      ]
    },
    {
      "cell_type": "code",
      "source": [
        "from pyspark.sql import SparkSession\n",
        "spark = (SparkSession\n",
        " .builder\n",
        " .appName(\"<app_name>\")\n",
        " .getOrCreate())"
      ],
      "metadata": {
        "id": "9GhULXdqEDBE"
      },
      "execution_count": 19,
      "outputs": []
    },
    {
      "cell_type": "code",
      "source": [
        "ecodf = spark.read.load(\"/content/Files-Required/Copy of eco_codes.csv\",\n",
        "                     format=\"csv\", inferSchema=\"true\", header=\"true\")\n",
        "movesdf = spark.read.load(\"/content/Files-Required/Copy of chess_wc_history_moves.csv\",\n",
        "                     format=\"csv\", inferSchema=\"true\", header=\"true\")\n",
        "game_infodf = spark.read.load(\"/content/Files-Required/Copy of chess_wc_history_game_info.csv\",\n",
        "                     format=\"csv\", inferSchema=\"true\", header=\"true\")"
      ],
      "metadata": {
        "id": "baWxc8P0IPm5"
      },
      "execution_count": 20,
      "outputs": []
    },
    {
      "cell_type": "code",
      "source": [
        "ecodf.show(5)"
      ],
      "metadata": {
        "colab": {
          "base_uri": "https://localhost:8080/"
        },
        "id": "oFLH5ZObLJNf",
        "outputId": "ee493acf-c712-4008-c0dd-a654a82620ab"
      },
      "execution_count": 21,
      "outputs": [
        {
          "output_type": "stream",
          "name": "stdout",
          "text": [
            "+---+--------------------+------------------+--------+---------+\n",
            "|eco|            eco_name|       eco_example|eco_type|eco_group|\n",
            "+---+--------------------+------------------+--------+---------+\n",
            "|A00|    Uncommon Opening|1 g4, a3, h3, etc.|       A|    Flank|\n",
            "|A01|Nimzovich-Larsen ...|              1 b3|       A|    Flank|\n",
            "|A02|      Bird's Opening|              1 f4|       A|    Flank|\n",
            "|A03|      Bird's Opening|           1 f4 d5|       A|    Flank|\n",
            "|A04|        Reti Opening|             1 Nf3|       A|    Flank|\n",
            "+---+--------------------+------------------+--------+---------+\n",
            "only showing top 5 rows\n",
            "\n"
          ]
        }
      ]
    },
    {
      "cell_type": "code",
      "source": [
        "ecodf.count()"
      ],
      "metadata": {
        "colab": {
          "base_uri": "https://localhost:8080/"
        },
        "id": "0ReViEGuLEg9",
        "outputId": "c0814706-e705-42e6-87b5-d978dc1e9d80"
      },
      "execution_count": 22,
      "outputs": [
        {
          "output_type": "execute_result",
          "data": {
            "text/plain": [
              "500"
            ]
          },
          "metadata": {},
          "execution_count": 22
        }
      ]
    },
    {
      "cell_type": "code",
      "source": [
        "ecodf.createOrReplaceTempView('eco_codes')\n",
        "movesdf.createOrReplaceTempView('history_moves')\n",
        "game_infodf.createOrReplaceTempView('game_info')"
      ],
      "metadata": {
        "id": "i73x6doAWgMx"
      },
      "execution_count": 23,
      "outputs": []
    },
    {
      "cell_type": "code",
      "source": [
        "spark.sql(\"show tables\").show()"
      ],
      "metadata": {
        "colab": {
          "base_uri": "https://localhost:8080/"
        },
        "id": "KUq6UuYvnqfI",
        "outputId": "d4148869-4986-4cc7-e2ac-02efac47bb9c"
      },
      "execution_count": 24,
      "outputs": [
        {
          "output_type": "stream",
          "name": "stdout",
          "text": [
            "+---------+-------------+-----------+\n",
            "|namespace|    tableName|isTemporary|\n",
            "+---------+-------------+-----------+\n",
            "|         |    eco_codes|       true|\n",
            "|         |    game_info|       true|\n",
            "|         |history_moves|       true|\n",
            "+---------+-------------+-----------+\n",
            "\n"
          ]
        }
      ]
    },
    {
      "cell_type": "markdown",
      "source": [
        "# Section 2: Using pySpark for data analysis."
      ],
      "metadata": {
        "id": "uLUOp3RwfrNw"
      }
    },
    {
      "cell_type": "markdown",
      "source": [
        "### 1. List of Winners of Each World champions Trophy Hint: Total Result of all rounds of Tournament for that player is considered as that player's\n",
        "Score/Result.\n",
        "Result attributes: winner, tournament_name\n"
      ],
      "metadata": {
        "id": "wt3TI-fAf5mf"
      }
    },
    {
      "cell_type": "code",
      "source": [
        "spark.sql(\"\"\"\n",
        "\n",
        "SELECT DISTINCT *\n",
        "\n",
        "FROM (SELECT *, \n",
        "\n",
        "      max(winrate) over (partition by tournament_name) as part\n",
        "\n",
        "      FROM (SELECT DISTINCT winner, tournament_name, count(winner) AS winrate \n",
        "\n",
        "            FROM game_info \n",
        "\n",
        "            WHERE winner != 'draw'\n",
        "\n",
        "            GROUP BY winner, tournament_name) as t) as t1\n",
        "\n",
        "WHERE winrate = part\n",
        "\n",
        "ORDER BY winrate DESC\n",
        "\n",
        "\"\"\").drop('winrate','part').show(300,truncate = False)\n"
      ],
      "metadata": {
        "colab": {
          "base_uri": "https://localhost:8080/"
        },
        "id": "p3Ga57Tmf7XG",
        "outputId": "166b70c1-e4ff-43d5-cdec-4e733c74580d"
      },
      "execution_count": 25,
      "outputs": [
        {
          "output_type": "stream",
          "name": "stdout",
          "text": [
            "+---------------------+---------------+\n",
            "|winner               |tournament_name|\n",
            "+---------------------+---------------+\n",
            "|Kasimdzhanov,R       |FideChamp2004  |\n",
            "|Khalifman, Alexander |FideChamp1999  |\n",
            "|Ponomariov,R         |FideChamp2002  |\n",
            "|Alekhine, Alexander  |WorldChamp1929 |\n",
            "|Steinitz, William    |WorldChamp1892 |\n",
            "|Lasker, Emanuel      |WorldChamp1894 |\n",
            "|Lasker, Emanuel      |WorldChamp1896 |\n",
            "|Alekhine, Alexander  |WorldChamp1937 |\n",
            "|Botvinnik, Mikhail   |WorldChamp1948 |\n",
            "|Botvinnik, Mikhail   |WorldChamp1961 |\n",
            "|Steinitz, William    |WorldChamp1889 |\n",
            "|Anand, Viswanathan   |FideChamp1998  |\n",
            "|Steinitz, William    |WorldChamp1886 |\n",
            "|Euwe, Max            |WorldChamp1935 |\n",
            "|Lasker, Emanuel      |WorldChamp1907 |\n",
            "|Lasker, Emanuel      |WorldChamp1908 |\n",
            "|Lasker, Emanuel      |WorldChamp1910b|\n",
            "|Alekhine, Alexander  |WorldChamp1934 |\n",
            "|Shirov,A             |FideChamp2000  |\n",
            "|Anand,V              |FideChamp2000  |\n",
            "|Smyslov, Vassily     |WorldChamp1954 |\n",
            "|Lasker, Emanuel      |WorldChamp1909 |\n",
            "|Botvinnik, Mikhail   |WorldChamp1954 |\n",
            "|Botvinnik, Mikhail   |WorldChamp1958 |\n",
            "|Fischer, Robert James|WorldChamp1972 |\n",
            "|Karpov, Anatoly      |FideChamp1993  |\n",
            "|Spassky, Boris V     |WorldChamp1969 |\n",
            "|Karpov, Anatoly      |WorldChamp1978 |\n",
            "|Karpov, Anatoly      |WorldChamp1981 |\n",
            "|Smyslov, Vassily     |WorldChamp1957 |\n",
            "|Topalov,V            |FideChamp2005  |\n",
            "|Tal, Mihail          |WorldChamp1960 |\n",
            "|Karpov, Anatoly      |FideChamp1996  |\n",
            "|Kasparov, Gary       |PCAChamp1993   |\n",
            "|Steinitz, William    |WorldChamp1890 |\n",
            "|Alekhine, Alexander  |WorldChamp1927 |\n",
            "|Petrosian, Tigran V  |WorldChamp1963 |\n",
            "|Kasparov, Gary       |WorldChamp1985 |\n",
            "|Kasparov, Gary       |WorldChamp1986 |\n",
            "|Karpov, Anatoly      |WorldChamp1984 |\n",
            "|Botvinnik, Mikhail   |WorldChamp1951 |\n",
            "|Kramnik,V            |WorldChamp2006 |\n",
            "|Bronstein, David I   |WorldChamp1951 |\n",
            "|Capablanca, Jose Raul|WorldChamp1921 |\n",
            "|Petrosian, Tigran V  |WorldChamp1966 |\n",
            "|Kasparov, Gary       |WorldChamp1987 |\n",
            "|Anand,V              |WorldChamp2007 |\n",
            "|Carlsen,M            |WorldChamp2021 |\n",
            "|Kasparov, Gary       |WorldChamp1990 |\n",
            "|Kasparov, Gary       |PCAChamp1995   |\n",
            "|Karpov, Anatoly      |WorldChamp1987 |\n",
            "|Carlsen, Magnus      |WorldChamp2013 |\n",
            "|Carlsen, Magnus      |WorldChamp2014 |\n",
            "|Anand,V              |WorldChamp2008 |\n",
            "|Anand,V              |WorldChamp2010 |\n",
            "|Carlsen, Magnus      |WorldChamp2016 |\n",
            "|Kramnik,V            |WorldChamp2004 |\n",
            "|Kramnik,V            |WorldChamp2000 |\n",
            "|Leko,P               |WorldChamp2004 |\n",
            "|Schlechter, Carl     |WorldChamp1910a|\n",
            "|Anand, Viswanathan   |WorldChamp2012 |\n",
            "|Lasker, Emanuel      |WorldChamp1910a|\n",
            "|Gelfand,B            |WorldChamp2012 |\n",
            "|Anand,V              |WorldChamp2012 |\n",
            "+---------------------+---------------+\n",
            "\n"
          ]
        }
      ]
    },
    {
      "cell_type": "markdown",
      "source": [
        "### 2. List of Players with number of times they have won Tournament in descending order(Max to min).\n",
        "Result attributes: player_name, number_of_wins\n"
      ],
      "metadata": {
        "id": "w30v4kGka1sX"
      }
    },
    {
      "cell_type": "code",
      "source": [
        "spark.sql(\"\"\"\n",
        "\n",
        "SELECT DISTINCT winner, number_of_wins\n",
        "\n",
        "FROM (SELECT *, \n",
        "\n",
        "      max(number_of_wins) over (partition by tournament_name) as part\n",
        "\n",
        "      FROM (SELECT DISTINCT winner, tournament_name, count(winner) AS number_of_wins \n",
        "\n",
        "            FROM game_info \n",
        "\n",
        "            WHERE winner != 'draw'\n",
        "\n",
        "            GROUP BY winner, tournament_name) as t) as t1\n",
        "\n",
        "WHERE number_of_wins = part\n",
        "\n",
        "ORDER BY number_of_wins DESC\n",
        "\n",
        "\"\"\").show(300,truncate = False)"
      ],
      "metadata": {
        "colab": {
          "base_uri": "https://localhost:8080/"
        },
        "id": "lQmU8hh6Y233",
        "outputId": "aec60287-a5c9-4ff4-98aa-959e89512165"
      },
      "execution_count": 26,
      "outputs": [
        {
          "output_type": "stream",
          "name": "stdout",
          "text": [
            "+---------------------+--------------+\n",
            "|winner               |number_of_wins|\n",
            "+---------------------+--------------+\n",
            "|Kasimdzhanov,R       |13            |\n",
            "|Ponomariov,R         |12            |\n",
            "|Khalifman, Alexander |12            |\n",
            "|Alekhine, Alexander  |11            |\n",
            "|Anand, Viswanathan   |10            |\n",
            "|Alekhine, Alexander  |10            |\n",
            "|Botvinnik, Mikhail   |10            |\n",
            "|Lasker, Emanuel      |10            |\n",
            "|Steinitz, William    |10            |\n",
            "|Euwe, Max            |9             |\n",
            "|Alekhine, Alexander  |8             |\n",
            "|Shirov,A             |8             |\n",
            "|Lasker, Emanuel      |8             |\n",
            "|Anand,V              |8             |\n",
            "|Botvinnik, Mikhail   |7             |\n",
            "|Lasker, Emanuel      |7             |\n",
            "|Smyslov, Vassily     |7             |\n",
            "|Fischer, Robert James|7             |\n",
            "|Karpov, Anatoly      |6             |\n",
            "|Steinitz, William    |6             |\n",
            "|Spassky, Boris V     |6             |\n",
            "|Alekhine, Alexander  |6             |\n",
            "|Kasparov, Gary       |6             |\n",
            "|Tal, Mihail          |6             |\n",
            "|Smyslov, Vassily     |6             |\n",
            "|Topalov,V            |6             |\n",
            "|Karpov, Anatoly      |5             |\n",
            "|Botvinnik, Mikhail   |5             |\n",
            "|Kramnik,V            |5             |\n",
            "|Bronstein, David I   |5             |\n",
            "|Petrosian, Tigran V  |5             |\n",
            "|Kasparov, Gary       |5             |\n",
            "|Petrosian, Tigran V  |4             |\n",
            "|Kasparov, Gary       |4             |\n",
            "|Karpov, Anatoly      |4             |\n",
            "|Anand,V              |4             |\n",
            "|Carlsen,M            |4             |\n",
            "|Capablanca, Jose Raul|4             |\n",
            "|Carlsen, Magnus      |3             |\n",
            "|Anand,V              |3             |\n",
            "|Leko,P               |2             |\n",
            "|Kramnik,V            |2             |\n",
            "|Anand, Viswanathan   |1             |\n",
            "|Anand,V              |1             |\n",
            "|Lasker, Emanuel      |1             |\n",
            "|Gelfand,B            |1             |\n",
            "|Schlechter, Carl     |1             |\n",
            "+---------------------+--------------+\n",
            "\n"
          ]
        }
      ]
    },
    {
      "cell_type": "markdown",
      "source": [
        "### 3. Most and Least Popular eco move in world championship history.\n",
        "Result attributes: eco, eco_name, number_of_occurences\n",
        "Final result will have only two rows"
      ],
      "metadata": {
        "id": "Hkdqstx-vQTf"
      }
    },
    {
      "cell_type": "code",
      "source": [
        "spark.sql(\"\"\"\n",
        "\n",
        "WITH t3 as (SELECT * \n",
        "\n",
        "            FROM (SELECT t.eco, t.eco_name, count(t.eco_name) as number_of_occurences\n",
        "\n",
        "                 FROM (select eco_codes.eco, eco_codes.eco_name from history_moves\n",
        "\n",
        "                        left join game_info on history_moves.game_id = game_info.game_id\n",
        "      \n",
        "                        left join eco_codes on game_info.eco = eco_codes.eco) as t\n",
        "\n",
        "            GROUP BY t.eco_name, t.eco) as t2\n",
        "\n",
        "            ORDER BY number_of_occurences desc)\n",
        "\n",
        "(select * FROM t3 ORDER BY number_of_occurences DESC LIMIT 1)\n",
        "\n",
        "UNION\n",
        "\n",
        "(select * FROM t3 ORDER BY number_of_occurences ASC LIMIT 1)\n",
        "\n",
        "\"\"\").drop('score').show(1000,truncate = False)"
      ],
      "metadata": {
        "colab": {
          "base_uri": "https://localhost:8080/"
        },
        "id": "BkUzH_YR60s5",
        "outputId": "782dcd2a-7ac4-42a3-9734-2d16173aa845"
      },
      "execution_count": 27,
      "outputs": [
        {
          "output_type": "stream",
          "name": "stdout",
          "text": [
            "+---+----------------------------------------------------+--------------------+\n",
            "|eco|eco_name                                            |number_of_occurences|\n",
            "+---+----------------------------------------------------+--------------------+\n",
            "|C42|Petrov Defense                                      |5599                |\n",
            "|D54|Queen's Gambit Declined, Anti-Neo-Orthodox Variation|30                  |\n",
            "+---+----------------------------------------------------+--------------------+\n",
            "\n"
          ]
        }
      ]
    },
    {
      "cell_type": "markdown",
      "source": [
        "### 4. Find the eco move with most winnings.\n",
        "Ps. Use this opening move in your next chess game🙂\n",
        "Result attributes: eco, eco_name\n"
      ],
      "metadata": {
        "id": "Ad52bvyp5zIR"
      }
    },
    {
      "cell_type": "code",
      "source": [
        "spark.sql(\"\"\"\n",
        "\n",
        "SELECT *, count(eco_name) as winrate\n",
        "\n",
        "FROM (select eco_codes.eco, eco_codes.eco_name from game_info\n",
        "\n",
        "      left join eco_codes on game_info.eco = eco_codes.eco \n",
        "\n",
        "      WHERE winner != 'draw') as t\n",
        "\n",
        "GROUP BY eco_name, eco\n",
        "\n",
        "ORDER BY winrate desc limit 1\n",
        "\n",
        "\"\"\").drop('winrate').show(truncate = False)\n"
      ],
      "metadata": {
        "colab": {
          "base_uri": "https://localhost:8080/"
        },
        "id": "8X7CBmtPLAba",
        "outputId": "37712c4e-b89a-4f3e-f309-2e84f89deb61"
      },
      "execution_count": 28,
      "outputs": [
        {
          "output_type": "stream",
          "name": "stdout",
          "text": [
            "+---+-----------------+\n",
            "|eco|eco_name         |\n",
            "+---+-----------------+\n",
            "|B90|Sicilian, Najdorf|\n",
            "+---+-----------------+\n",
            "\n"
          ]
        }
      ]
    },
    {
      "cell_type": "markdown",
      "source": [
        "### 5. Longest and shortest game ever played in a world championship in terms of move.\n",
        "\n",
        "  Chess Funda: \"move\" is completed once both White and Black have played one turn. e.g If a game lasts 10 moves, both White and Black have\n",
        "played 10 moves)\n",
        "\n",
        "  Result attributes: game_id, event, tournament_name, number_of_moves\n",
        "Final result will have only two rows"
      ],
      "metadata": {
        "id": "Tahddfm4QYSr"
      }
    },
    {
      "cell_type": "code",
      "source": [
        "spark.sql(\"\"\"\n",
        "\n",
        "WITH t3 as (SELECT t2.game_id, event, tournament_name, part as number_of_moves\n",
        "\n",
        "            FROM (SELECT *\n",
        "\n",
        "                  FROM (SELECT *,\n",
        "\n",
        "                        max(move_no_pair) over (partition by game_id) as part\n",
        "\n",
        "                        FROM history_moves) as t\n",
        "\n",
        "                  WHERE move_no_pair = t.part\n",
        "\n",
        "                  ORDER BY move_no_pair DESC) as t2\n",
        "\n",
        "           LEFT JOIN game_info on t2.game_id = game_info.game_id)\n",
        "\n",
        "(select * FROM t3 ORDER BY number_of_moves DESC LIMIT 1)\n",
        "\n",
        "UNION\n",
        "\n",
        "(select * FROM t3 ORDER BY number_of_moves ASC LIMIT 1)\n",
        "\n",
        "\"\"\").drop().show(1000,truncate = False)"
      ],
      "metadata": {
        "colab": {
          "base_uri": "https://localhost:8080/"
        },
        "id": "GAPimelw9ujf",
        "outputId": "ffb373b1-b074-41f6-b7f1-9597a6cb14df"
      },
      "execution_count": 29,
      "outputs": [
        {
          "output_type": "stream",
          "name": "stdout",
          "text": [
            "+------------------------------------+-----------------------+---------------+---------------+\n",
            "|game_id                             |event                  |tournament_name|number_of_moves|\n",
            "+------------------------------------+-----------------------+---------------+---------------+\n",
            "|4424a0a4-3732-407c-bf0c-da47f6d91921|FIDE WCh KO            |FideChamp2000  |146            |\n",
            "|1846cede-0037-4f04-9dc2-bf948cf08d72|World Championship 28th|WorldChamp1972 |1              |\n",
            "+------------------------------------+-----------------------+---------------+---------------+\n",
            "\n"
          ]
        }
      ]
    },
    {
      "cell_type": "markdown",
      "source": [
        "### 6. Shortest and Longest Draw game ever Played.\n",
        "Result attributes: game_id, event, tournament_name, number_of_moves\n",
        "Final result will have only two rows"
      ],
      "metadata": {
        "id": "P08p-hTR3XG4"
      }
    },
    {
      "cell_type": "code",
      "source": [
        "spark.sql(\"\"\"\n",
        "\n",
        "with t as (SELECT DISTINCT * \n",
        "\n",
        "            FROM (SELECT game_info.game_id, event, tournament_name, move_no_pair, winner,\n",
        "\n",
        "                  max(move_no_pair) over (partition by game_info.game_id) as number_of_moves\n",
        "\n",
        "                  FROM history_moves\n",
        "\n",
        "                  LEFT JOIN game_info on history_moves.game_id = game_info.game_id)\n",
        "\n",
        "            WHERE (move_no_pair = number_of_moves) and (winner = 'draw')\n",
        "\n",
        "            ORDER BY number_of_moves DESC)\n",
        "\n",
        "(select * FROM t ORDER BY number_of_moves DESC LIMIT 1)\n",
        "\n",
        "UNION\n",
        "\n",
        "(select * FROM t ORDER BY number_of_moves ASC LIMIT 1)            \n",
        "\n",
        "\"\"\").drop('winner','move_no_pair').show(1000,truncate = False)"
      ],
      "metadata": {
        "colab": {
          "base_uri": "https://localhost:8080/"
        },
        "id": "p2U5-4D46QyV",
        "outputId": "c0a71802-5c79-4de2-fc80-e307eb0ccce2"
      },
      "execution_count": 30,
      "outputs": [
        {
          "output_type": "stream",
          "name": "stdout",
          "text": [
            "+------------------------------------+-------------+---------------+---------------+\n",
            "|game_id                             |event        |tournament_name|number_of_moves|\n",
            "+------------------------------------+-------------+---------------+---------------+\n",
            "|88f34084-e4df-4908-b381-9502ca65e9bf|FIDE WCh KO  |FideChamp2002  |129            |\n",
            "|a27c2b95-fb62-4b63-afc4-60bd5aced6d6|FIDE-Wch k.o.|FideChamp1998  |6              |\n",
            "+------------------------------------+-------------+---------------+---------------+\n",
            "\n"
          ]
        }
      ]
    },
    {
      "cell_type": "markdown",
      "source": [
        "### 7. Most and Least rated Player.\n",
        "Result attributes: player_name, elo\n",
        "Chess Funda: elo is the rating of the player in chess tournament.\n",
        "Final result will have only two rows\n"
      ],
      "metadata": {
        "id": "qi9Bn1Mn-X5F"
      }
    },
    {
      "cell_type": "code",
      "source": [
        "spark.sql(\"\"\"\n",
        "\n",
        "with t as (SELECT *\n",
        "\n",
        "            FROM (SELECT DISTINCT winner, winner_elo FROM game_info\n",
        "\n",
        "                  GROUP BY winner_elo, winner\n",
        "\n",
        "                  ORDER BY winner_elo )\n",
        "\n",
        "            WHERE winner_elo IS NOT NULL)\n",
        "\n",
        "(select winner as player_name, winner_elo as elo FROM t ORDER BY winner_elo DESC LIMIT 1)\n",
        "\n",
        "UNION\n",
        "\n",
        "(select winner as player_name, winner_elo as elo FROM t ORDER BY winner_elo ASC LIMIT 1)            \n",
        "\n",
        "\"\"\").show(truncate = False)"
      ],
      "metadata": {
        "colab": {
          "base_uri": "https://localhost:8080/"
        },
        "id": "ssVBxG90BPTM",
        "outputId": "38945b9f-ae5e-47e4-a96f-8767a58f56ad"
      },
      "execution_count": 31,
      "outputs": [
        {
          "output_type": "stream",
          "name": "stdout",
          "text": [
            "+---------------+----+\n",
            "|player_name    |elo |\n",
            "+---------------+----+\n",
            "|Carlsen, Magnus|2870|\n",
            "|Ciuksyte,D     |2271|\n",
            "+---------------+----+\n",
            "\n"
          ]
        }
      ]
    },
    {
      "cell_type": "markdown",
      "source": [
        "### 8. 3rd Last Player with most Loss.\n",
        "Result attributes: player_name\n",
        "Final result will have only one row"
      ],
      "metadata": {
        "id": "uZaz25drC-_O"
      }
    },
    {
      "cell_type": "code",
      "source": [
        "spark.sql(\"\"\"\n",
        "\n",
        "SELECT *\n",
        "\n",
        "FROM (SELECT *,\n",
        "\n",
        "      ROW_NUMBER() OVER (ORDER BY no_of_loss DESC) as row_no\n",
        "\n",
        "      FROM (SELECT loser as player_name, count(loser) as no_of_loss \n",
        "\n",
        "            FROM game_info\n",
        "\n",
        "            GROUP BY loser\n",
        "\n",
        "            ORDER BY no_of_loss DESC))\n",
        "\n",
        "WHERE row_no = 4\n",
        "\n",
        "\"\"\").drop('row_no','no_of_loss').show(truncate = False)\n"
      ],
      "metadata": {
        "colab": {
          "base_uri": "https://localhost:8080/"
        },
        "id": "jDYvR8_GGdAm",
        "outputId": "1c7f28b5-b3c4-4f9e-b424-a5b431791e56"
      },
      "execution_count": 32,
      "outputs": [
        {
          "output_type": "stream",
          "name": "stdout",
          "text": [
            "+---------------+\n",
            "|player_name    |\n",
            "+---------------+\n",
            "|Karpov, Anatoly|\n",
            "+---------------+\n",
            "\n"
          ]
        }
      ]
    },
    {
      "cell_type": "markdown",
      "source": [
        "### 9. How many times players with low rating won matches with their total win Count.\n",
        "Result attributes: player_name, win_count\n"
      ],
      "metadata": {
        "id": "OQbPsURYMNjw"
      }
    },
    {
      "cell_type": "code",
      "source": [
        "spark.sql(\"\"\"\n",
        "\n",
        "SELECT winner as player_name, count(winner) as win_count FROM game_info \n",
        "\n",
        "WHERE winner_loser_elo_diff < 0\n",
        "\n",
        "group by winner\n",
        "\n",
        "ORDER BY win_count DESC\n",
        "\n",
        "\"\"\").show(1000,truncate = False)"
      ],
      "metadata": {
        "colab": {
          "base_uri": "https://localhost:8080/"
        },
        "id": "d7ihzC5-O7Mq",
        "outputId": "78cc8113-a87e-418b-ce3d-1fd80716d798"
      },
      "execution_count": 33,
      "outputs": [
        {
          "output_type": "stream",
          "name": "stdout",
          "text": [
            "+-----------------------+---------+\n",
            "|player_name            |win_count|\n",
            "+-----------------------+---------+\n",
            "|Karpov, Anatoly        |20       |\n",
            "|Kasimdzhanov,R         |11       |\n",
            "|Macieja,B              |9        |\n",
            "|Kortschnoj, Viktor     |8        |\n",
            "|Kramnik,V              |8        |\n",
            "|Grischuk,A             |7        |\n",
            "|Ponomariov,R           |7        |\n",
            "|Khalifman, Alexander   |6        |\n",
            "|Ehlvest,J              |5        |\n",
            "|Short, Nigel D         |5        |\n",
            "|Akopian, Vladimir      |5        |\n",
            "|Kasparov, Gary         |5        |\n",
            "|Dominguez,L            |5        |\n",
            "|Sulskis,S              |5        |\n",
            "|Nisipeanu, Liviu Dieter|4        |\n",
            "|Ni Hua                 |4        |\n",
            "|Tkachiev, Vladislav    |4        |\n",
            "|Gelfand,B              |4        |\n",
            "|Nakamura,H             |4        |\n",
            "|Volkov,S               |4        |\n",
            "|Filippov,Va            |4        |\n",
            "|Shaked, Tal            |3        |\n",
            "|Leitao,R               |3        |\n",
            "|Milos, Gilberto        |3        |\n",
            "|Anand,V                |3        |\n",
            "|Leko,P                 |3        |\n",
            "|Tiviakov,S             |3        |\n",
            "|Kindermann, Stefan     |3        |\n",
            "|Kozul,Z                |3        |\n",
            "|Acs,P                  |3        |\n",
            "|Kharlov,A              |3        |\n",
            "|Nataf,IA               |3        |\n",
            "|Morozevich,A           |3        |\n",
            "|Tkachiev,V             |3        |\n",
            "|Milov, Vadim           |3        |\n",
            "|Felgaer,R              |3        |\n",
            "|Spassky, Boris V       |3        |\n",
            "|Smirnov,P              |3        |\n",
            "|Kamsky, Gata           |3        |\n",
            "|Hamdouchi,H            |3        |\n",
            "|Anastasian,A           |3        |\n",
            "|Svidler,P              |3        |\n",
            "|Peng Xiaomin           |2        |\n",
            "|Milov,V                |2        |\n",
            "|Istratescu, Andrei     |2        |\n",
            "|Fridman, Daniel        |2        |\n",
            "|Miladinovic, Igor      |2        |\n",
            "|Adianto,U              |2        |\n",
            "|Nielsen, Peter Heine   |2        |\n",
            "|Piket, Jeroen          |2        |\n",
            "|Krasenkow,M            |2        |\n",
            "|Baginskaite,C          |2        |\n",
            "|Timman, Jan H          |2        |\n",
            "|Barua, Dibyendu        |2        |\n",
            "|Dolmatov, Sergey       |2        |\n",
            "|Epishin, Vladimir      |2        |\n",
            "|Dizdarevic,E           |2        |\n",
            "|Iordachescu,V          |2        |\n",
            "|Adams, Michael         |2        |\n",
            "|Lautier, Joel          |2        |\n",
            "|Anand, Viswanathan     |2        |\n",
            "|Almasi, Zoltan         |2        |\n",
            "|Shirov,A               |2        |\n",
            "|Magem Badals, Jorge    |2        |\n",
            "|Motylev,A              |2        |\n",
            "|Nguyen Anh Dung        |2        |\n",
            "|Yermolinsky,A          |2        |\n",
            "|Ghaem Maghami,E        |2        |\n",
            "|Kritz,L                |2        |\n",
            "|Harikrishna,P          |2        |\n",
            "|Sakaev,K               |2        |\n",
            "|Lautier,J              |2        |\n",
            "|Azmaiparashvili,Z      |2        |\n",
            "|Gurevich,M             |2        |\n",
            "|Bruzon,L               |2        |\n",
            "|Lastin,A               |2        |\n",
            "|Almasi,Z               |2        |\n",
            "|Aronian, Levon         |2        |\n",
            "|Zhang Pengxiang        |2        |\n",
            "|Dreev,A                |2        |\n",
            "|Svidler, Peter         |1        |\n",
            "|Ivanchuk,V             |1        |\n",
            "|Bauer, Christian       |1        |\n",
            "|Miles, Anthony J       |1        |\n",
            "|Van Wely, Loek         |1        |\n",
            "|Asrian, Karen          |1        |\n",
            "|Bareev,E               |1        |\n",
            "|Krasenkow, Michal      |1        |\n",
            "|Dao Thien Hai          |1        |\n",
            "|Kacheishvili,G         |1        |\n",
            "|Benjamin,Joe           |1        |\n",
            "|Kobese,W               |1        |\n",
            "|Kurajica, Bojan        |1        |\n",
            "|Khenkin,I              |1        |\n",
            "|Sasikiran,K            |1        |\n",
            "|Vescovi,G              |1        |\n",
            "|Vasquez,R              |1        |\n",
            "|Villamayor,B           |1        |\n",
            "|Psakhis, Lev           |1        |\n",
            "|Vladimirov,E           |1        |\n",
            "|Yu Shaoteng            |1        |\n",
            "|Ponomariov, Ruslan     |1        |\n",
            "|Seirawan, Yasser       |1        |\n",
            "|Radziewicz,I           |1        |\n",
            "|Savchenko,S            |1        |\n",
            "|Zelcic, Robert         |1        |\n",
            "|Mahjoob,M              |1        |\n",
            "|Aleksandrov,A          |1        |\n",
            "|Shabalov,A             |1        |\n",
            "|Paragua,M              |1        |\n",
            "|Movsesian, Sergei      |1        |\n",
            "|Delchev,A              |1        |\n",
            "|Moiseenko,A            |1        |\n",
            "|Touzane,O              |1        |\n",
            "|Kaidanov, Grigory S    |1        |\n",
            "|Akesson, Ralf          |1        |\n",
            "|Slobodjan, Roman       |1        |\n",
            "|Ivanov,AV              |1        |\n",
            "|Glek, Igor V           |1        |\n",
            "|Pina,S                 |1        |\n",
            "|Ye Jiangchuan          |1        |\n",
            "|Ciuksyte,D             |1        |\n",
            "|Campora,D              |1        |\n",
            "|Volokitin,A            |1        |\n",
            "|Radjabov,T             |1        |\n",
            "|Wojtkiewicz,A          |1        |\n",
            "|Garcia, Gildardo       |1        |\n",
            "|Tiviakov, Sergei       |1        |\n",
            "|Luther, Thomas         |1        |\n",
            "|Zapata,A               |1        |\n",
            "|Rodriguez, Andres      |1        |\n",
            "|Zubarev, Alexander     |1        |\n",
            "|Tregubov,P             |1        |\n",
            "|Inarkiev,E             |1        |\n",
            "|Sokolov, Ivan          |1        |\n",
            "|Guseinov,G             |1        |\n",
            "|Macieja, Bartlomiej    |1        |\n",
            "|Gulko,B                |1        |\n",
            "|Azmaiparashvili, Zurab |1        |\n",
            "|Karjakin, Sergey       |1        |\n",
            "|Lputian,S              |1        |\n",
            "|Kotsur, Pavel          |1        |\n",
            "|Zvjaginsev,V           |1        |\n",
            "|Gretarsson, Helgi Ass  |1        |\n",
            "|Gurevich, Dmitry       |1        |\n",
            "|Malakhov,V             |1        |\n",
            "|Dreev, Alexey          |1        |\n",
            "|Khalifman,A            |1        |\n",
            "|Georgiev, Kiril        |1        |\n",
            "|El Taher,F             |1        |\n",
            "|Kobalija, Mihail       |1        |\n",
            "|Psakhis,L              |1        |\n",
            "|Aronian,L              |1        |\n",
            "|Vaganian,R             |1        |\n",
            "+-----------------------+---------+\n",
            "\n"
          ]
        }
      ]
    },
    {
      "cell_type": "markdown",
      "source": [
        "### 10. Move Sequence for Each Player in a Match.\n",
        "Result attributes: game_id, player_name, move_sequence, move_count\n"
      ],
      "metadata": {
        "id": "2Gzzk6uDUNrY"
      }
    },
    {
      "cell_type": "code",
      "source": [
        "spark.sql(\"\"\"\n",
        "\n",
        "SELECT game_id, player, move_sequence, move_no as move_count\n",
        "\n",
        "FROM (SELECT game_id, player, move_sequence, move_no, move_no_pair,\n",
        "\n",
        "      max(move_no_pair) over (partition by game_id) as part\n",
        "\n",
        "      FROM history_moves)\n",
        "\n",
        "WHERE move_no_pair = part\n",
        "\n",
        "\"\"\").show(truncate = False)"
      ],
      "metadata": {
        "colab": {
          "base_uri": "https://localhost:8080/"
        },
        "id": "zUWRxmGfz1TM",
        "outputId": "53a1b774-7be4-4ea7-8344-cedc17870df3"
      },
      "execution_count": 34,
      "outputs": [
        {
          "output_type": "stream",
          "name": "stdout",
          "text": [
            "+------------------------------------+----------------------+-----------------------------------------------------------------------------------------------------------------------------------------------------------------------------------------------------------------------------------------------------------------------------------------------------------------------------------------------------------------------------------------------------------------------------------------------------------------------------------------------------------------------------------------------------------------------------------------------------------------------+----------+\n",
            "|game_id                             |player                |move_sequence                                                                                                                                                                                                                                                                                                                                                                                                                                                                                                                                                                                                          |move_count|\n",
            "+------------------------------------+----------------------+-----------------------------------------------------------------------------------------------------------------------------------------------------------------------------------------------------------------------------------------------------------------------------------------------------------------------------------------------------------------------------------------------------------------------------------------------------------------------------------------------------------------------------------------------------------------------------------------------------------------------+----------+\n",
            "|00563036-1aa1-42cc-84d0-bd95562cdb52|Azmaiparashvili, Zurab|e4|c5|c3|Nf6|e5|Nd5|g3|Nc6|Bg2|Qc7|f4|e6|Na3|Be7|Ne2|O-O|O-O|a6|d3|b6|c4|Ndb4|Nb1|a5|Nbc3|Bb7|a3|Na6|Ne4|Nd4|Be3|Nf5|Bf2|d5|exd6|Nxd6|N2c3|Rad8|Qe2|Nf5|g4|Nd4|Bxd4|cxd4|Nb5|Qd7|b4|f5|Ng3|Bxg2|Kxg2|Rfe8|Rfe1|Bf8|Kg1|g6|Qf3|axb4|axb4|Nxb4|Ra7|Qc6|Qe2|Rd7|Rxd7|Qxd7|gxf5|gxf5|Nxf5|Nxd3|Qxd3|exf5|Rxe8|Qxe8|Qxf5|Qe1+|Kg2|Qe2+|Kg3|Qxc4|Qg5+|Kh8|Qf6+|Bg7|Qxb6|Qg8|Kf2|Qa2+|Kg3                                                                                                                                                                                                                                     |89        |\n",
            "|007ba523-8617-42bc-8925-a348a1b4f709|Spassky, Boris V      |e4|Nf6|e5|Nd5|d4|d6|Nf3|g6|Bc4|Nb6|Bb3|Bg7|Nbd2|O-O|h3|a5|a4|dxe5|dxe5|Na6|O-O|Nc5|Qe2|Qe8|Ne4|Nbxa4|Bxa4|Nxa4|Re1|Nb6|Bd2|a4|Bg5|h6|Bh4|Bf5|g4|Be6|Nd4|Bc4|Qd2|Qd7|Rad1|Rfe8|f4|Bd5|Nc5|Qc8|Qc3|e6|Kh2|Nd7|Nd3|c5|Nb5|Qc6|Nd6|Qxd6|exd6|Bxc3|bxc3|f6|g5|hxg5|fxg5|f5|Bg3|Kf7|Ne5+|Nxe5|Bxe5|b5|Rf1|Rh8|Bf6|a3|Rf4|a2|c4|Bxc4|d7|Bd5|Kg3|Ra3+|c3|Rha8|Rh4|e5|Rh7+|Ke6|Re7+|Kd6|Rxe5|Rxc3+|Kf2|Rc2+|Ke1|Kxd7|Rexd5+|Kc6|Rd6+|Kb7|Rd7+|Ka6|R7d2|Rxd2|Kxd2|b4|h4|Kb5|h5|c4|Ra1|gxh5|g6|h4|g7|h3|Be7|Rg8|Bf8|h2|Kc2|Kc6|Rd1|b3+|Kc3|h1=Q|Rxh1|Kd5|Kb2|f4|Rd1+|Ke4|Rc1|Kd3|Rd1+|Ke2|Rc1|f3|Bc5|Rxg7|Rxc4|Rd7|Re4+|Kf1|Bd4   |147       |\n",
            "|007ba523-8617-42bc-8925-a348a1b4f709|Fischer, Robert James |e4|Nf6|e5|Nd5|d4|d6|Nf3|g6|Bc4|Nb6|Bb3|Bg7|Nbd2|O-O|h3|a5|a4|dxe5|dxe5|Na6|O-O|Nc5|Qe2|Qe8|Ne4|Nbxa4|Bxa4|Nxa4|Re1|Nb6|Bd2|a4|Bg5|h6|Bh4|Bf5|g4|Be6|Nd4|Bc4|Qd2|Qd7|Rad1|Rfe8|f4|Bd5|Nc5|Qc8|Qc3|e6|Kh2|Nd7|Nd3|c5|Nb5|Qc6|Nd6|Qxd6|exd6|Bxc3|bxc3|f6|g5|hxg5|fxg5|f5|Bg3|Kf7|Ne5+|Nxe5|Bxe5|b5|Rf1|Rh8|Bf6|a3|Rf4|a2|c4|Bxc4|d7|Bd5|Kg3|Ra3+|c3|Rha8|Rh4|e5|Rh7+|Ke6|Re7+|Kd6|Rxe5|Rxc3+|Kf2|Rc2+|Ke1|Kxd7|Rexd5+|Kc6|Rd6+|Kb7|Rd7+|Ka6|R7d2|Rxd2|Kxd2|b4|h4|Kb5|h5|c4|Ra1|gxh5|g6|h4|g7|h3|Be7|Rg8|Bf8|h2|Kc2|Kc6|Rd1|b3+|Kc3|h1=Q|Rxh1|Kd5|Kb2|f4|Rd1+|Ke4|Rc1|Kd3|Rd1+|Ke2|Rc1|f3|Bc5|Rxg7|Rxc4|Rd7|Re4+|Kf1|Bd4|f2|148       |\n",
            "|00c5cb30-540b-47b0-8fba-579280ca1e71|Azmaiparashvili, Zurab|d4|d5|c4|e6|Nf3|c6|Qc2|Nf6|g3|g6|Bg2|Bg7|O-O|O-O|Rd1|Nbd7|Nbd2|Re8|b3|b6|Bb2|Bb7|e4|dxe4|Nxe4|c5|Nd6|Qc7|Nxb7|Qxb7|Ne5|Qc7|Nxd7|Nxd7|Bxa8|Rxa8|dxc5|Nxc5|Bxg7|Kxg7|Qc3+|e5|Rd5|Re8|Re1|f6|f4|Nd7|Red1|Nf8|fxe5|fxe5|c5|Re6|c6|Kg8|Qc4                                                                                                                                                                                                                                                                                                                                                                                  |57        |\n",
            "|00c5cb30-540b-47b0-8fba-579280ca1e71|Slobodjan, Roman      |d4|d5|c4|e6|Nf3|c6|Qc2|Nf6|g3|g6|Bg2|Bg7|O-O|O-O|Rd1|Nbd7|Nbd2|Re8|b3|b6|Bb2|Bb7|e4|dxe4|Nxe4|c5|Nd6|Qc7|Nxb7|Qxb7|Ne5|Qc7|Nxd7|Nxd7|Bxa8|Rxa8|dxc5|Nxc5|Bxg7|Kxg7|Qc3+|e5|Rd5|Re8|Re1|f6|f4|Nd7|Red1|Nf8|fxe5|fxe5|c5|Re6|c6|Kg8|Qc4|Qxc6                                                                                                                                                                                                                                                                                                                                                                             |58        |\n",
            "|00ff8f8a-33d1-466c-8d38-bab60eaaa265|Tkachiev, Vladislav   |d4|Nf6|Nf3|e6|c4|d5|g3|c6|Bg2|Nbd7|Qc2|Bd6|O-O|O-O|Rd1|Qe7|Nc3|Rd8|e4|Nxe4|Nxe4|dxe4|Qxe4|c5|Bf4|Nf6|Bxd6|Rxd6|Qe5|Nd7|Qe3|a5|dxc5|Rxd1+|Rxd1|Nxc5|Nd4|g6|Nb5|Ra6|Qe5|Bd7|Nc7|f6|Qe3|Kg7|Nxa6|bxa6|b3                                                                                                                                                                                                                                                                                                                                                                                                                  |49        |\n",
            "|0128c0c8-d901-4c87-9452-3981c597eb7c|Karpov, Anatoly       |c4|c5|Nf3|Nf6|Nc3|d5|cxd5|Nxd5|d4|Nxc3|bxc3|g6|e3|Bg7|Bd3|O-O|O-O|Qc7|Rb1|b6|Qe2|Rd8|Be4|Ba6|c4|Nc6|d5|f5|Bd3|e5|e4|Nd4|Nxd4|cxd4|Bg5|Rf8|Rfc1|Rac8|Bd2|Rf7|a4|fxe4|Qxe4|Rcf8|f3|Bc8|a5|Bf5|Qe2|Re8|Be4|Bf8|Qd3|Bc5|Ra1|Qd7|Re1|Qc8|Kh1|Rc7|Rab1|Kg7|Rec1|Bxe4|fxe4|Rf7|Qg3|bxa5|Bxa5|Rf4|Re1|Qa6|Bd2|Rf7|Qd3|Ref8|h3|Rf2|Ra1|Qf6|Rg1|h5|Ra5|Qe7|Rb1|h4|Ra6|R8f7|Rc6|Qf8|Rg1|Be7|Re6|Kh7|Be1|Rf1|Bd2|Bc5|Rc6|R7f3|gxf3|Rxf3|Rc7+|Kh8|Bh6|Rxd3|Bxf8|Rxh3+|Kg2|Rg3+|Kh2|Rxg1|Bxc5                                                                                                                                        |113       |\n",
            "|0128c0c8-d901-4c87-9452-3981c597eb7c|Kasparov, Gary        |c4|c5|Nf3|Nf6|Nc3|d5|cxd5|Nxd5|d4|Nxc3|bxc3|g6|e3|Bg7|Bd3|O-O|O-O|Qc7|Rb1|b6|Qe2|Rd8|Be4|Ba6|c4|Nc6|d5|f5|Bd3|e5|e4|Nd4|Nxd4|cxd4|Bg5|Rf8|Rfc1|Rac8|Bd2|Rf7|a4|fxe4|Qxe4|Rcf8|f3|Bc8|a5|Bf5|Qe2|Re8|Be4|Bf8|Qd3|Bc5|Ra1|Qd7|Re1|Qc8|Kh1|Rc7|Rab1|Kg7|Rec1|Bxe4|fxe4|Rf7|Qg3|bxa5|Bxa5|Rf4|Re1|Qa6|Bd2|Rf7|Qd3|Ref8|h3|Rf2|Ra1|Qf6|Rg1|h5|Ra5|Qe7|Rb1|h4|Ra6|R8f7|Rc6|Qf8|Rg1|Be7|Re6|Kh7|Be1|Rf1|Bd2|Bc5|Rc6|R7f3|gxf3|Rxf3|Rc7+|Kh8|Bh6|Rxd3|Bxf8|Rxh3+|Kg2|Rg3+|Kh2|Rxg1|Bxc5|d3                                                                                                                                     |114       |\n",
            "|01af512b-f6cd-471a-bc9d-4d52df30ecce|Bogoljubow, Efim      |d4|Nf6|c4|e6|Nc3|Bb4|Qb3|Qe7|a3|Bxc3+|Qxc3|b6|f3|d5|cxd5|Nxd5|Qc2|Qh4+|g3|Qxd4|e4|Ne7|Bf4|Bd7|Rd1|Qa4|Qxc7|Qc6|Ne2|Qxc7|Bxc7|Na6|Bd6|Bb5|Nc3|Bxf1|Rxf1|Nc8|Bf4|Ke7|Rf2|Rd8|Rxd8|Kxd8|Rd2+|Ke8|Nb5|f6|b4|Ne7|Kd1|Ng6|Bc7|e5|Kc2|Nf8|Bd6|Ne6|f4|exf4|gxf4|Rc8+|Kb3|Ra8|h4|Kf7|f5|Nd8|Bf4|Ke7|Rg2|g6|Rc2|gxf5|exf5|Nf7|Re2+|Kd7|Re6|Rg8|Rxf6|Ke7|Re6+|Kd7|Bd6|Nxd6|Rxd6+|Ke8|Nxa7|Rg3+|Ka4|Rg7|Nc6|Nc7|f6                                                                                                                                                                                                                 |95        |\n",
            "|01be7b78-84e0-4f2a-9969-fa637f5ce12e|Leko,P                |e4|c6|d4|d5|Nc3|dxe4|Nxe4|Bf5|Ng3|Bg6|h4|h6|Nf3|Nd7|h5|Bh7|Bd3|Bxd3|Qxd3|e6|Bf4|Bb4+|c3|Be7|O-O-O|Ngf6|Kb1|O-O|Ne5|Qa5|Ne4|Rad8|Nxf6+|Bxf6|Nc4|Qb5|Bd6|Rfe8|Bc7|Ra8|g4|Be7|Rhe1|Rac8|Bd6|Nb6|Nxb6|Qxd3+|Rxd3|axb6|Bxe7|Rxe7|Kc2|b5|d5|cxd5|Rxd5|b4|Rd3|Rec7|Ree3|Rc4|f3|f5|gxf5|exf5|Re5|Rf4|Rb5|Rc7|Kb3|bxc3|bxc3|g6|hxg6|Kg7|Rb4|Rxb4+|cxb4|h5|f4|Kxg6|Rh3|Rc1|a4|Rg1|a5|Rg4|Kc4|h4|Kc5|Rxf4|Ra3|Re4|b5|Kg5|Kb6|Re7|a6|bxa6|bxa6|Re6+|Kb7|Rxa6|Rxa6|h3|Ra8|f4|Rg8+|Kf5|Rh8|Kg4|Rg8+                                                                                                                                  |113       |\n",
            "|01d7c507-bc7e-4638-b763-d28a7f8558ac|Kasimdzhanov,R        |e4|c5|Nf3|e6|d4|cxd4|Nxd4|Nc6|Nc3|d6|Be2|Nf6|Be3|Be7|O-O|O-O|Kh1|Nxd4|Bxd4|e5|Be3|Be6|f4|exf4|Rxf4|a6|a4|Qa5|Qd2|Rfc8|Rd1|Bd8|Rff1|Bb6|Bd4|Bxd4|Qxd4|Rc6|Nd5|Bxd5|exd5|Rcc8|Rxf6|gxf6|Bd3|Re8|Qh4|Kf8|Rf1|Qxd5|Qh6+|Ke7|Qxf6+|Kd7|h3|h5|b4|Re3|Rf5|Re5|Rxe5|dxe5|Qf5+|Qe6|Qxh5|e4|Be2|Rf8|b5|f5|bxa6|bxa6|Qh7+|Qf7|Qh6|Qf6|Qh7+|Rf7|Qg8|Ke7|Bc4|Rf8|Qh7+|Kd6|Qb7|Qa1+|Kh2|Qe5+|Kh1|a5|Qb6+|Ke7|Qb7+|Kf6|Qb6+|Kg7|Qb7+|Kh6|Qb6+|Rf6|Qd8|Rd6|Qf8+|Kg5|Be2                                                                                                                                                                |105       |\n",
            "|01d7c507-bc7e-4638-b763-d28a7f8558ac|Morozevich,A          |e4|c5|Nf3|e6|d4|cxd4|Nxd4|Nc6|Nc3|d6|Be2|Nf6|Be3|Be7|O-O|O-O|Kh1|Nxd4|Bxd4|e5|Be3|Be6|f4|exf4|Rxf4|a6|a4|Qa5|Qd2|Rfc8|Rd1|Bd8|Rff1|Bb6|Bd4|Bxd4|Qxd4|Rc6|Nd5|Bxd5|exd5|Rcc8|Rxf6|gxf6|Bd3|Re8|Qh4|Kf8|Rf1|Qxd5|Qh6+|Ke7|Qxf6+|Kd7|h3|h5|b4|Re3|Rf5|Re5|Rxe5|dxe5|Qf5+|Qe6|Qxh5|e4|Be2|Rf8|b5|f5|bxa6|bxa6|Qh7+|Qf7|Qh6|Qf6|Qh7+|Rf7|Qg8|Ke7|Bc4|Rf8|Qh7+|Kd6|Qb7|Qa1+|Kh2|Qe5+|Kh1|a5|Qb6+|Ke7|Qb7+|Kf6|Qb6+|Kg7|Qb7+|Kh6|Qb6+|Rf6|Qd8|Rd6|Qf8+|Kg5|Be2|Kf4                                                                                                                                                            |106       |\n",
            "|01db283e-d9c7-4f13-9cdc-2e25aae713d9|Kramnik,V             |d4|d5|c4|c6|Nf3|Nf6|Nc3|e6|Bg5|h6|Bh4|dxc4|e4|g5|Bg3|b5|Be2|Bb7|O-O|Nbd7|Ne5|h5|Nxd7|Qxd7|Qc1|Rg8|Rd1|Bb4|Qe3|Qe7|h3|h4|Bh2|Bxc3|bxc3|g4|Kh1|c5|hxg4|cxd4|Rxd4|e5|Rdd1|Nxg4|Bxg4|Rxg4|f3|Rg6|a4|a5|axb5|a4|Qe2|Qc5|Rab1|Rd6|Rxd6|Qxd6|Qxc4|a3|Ra1|h3|Qe2|hxg2+|Qxg2|O-O-O|Qa2|f5|Qxa3|fxe4|Qxd6|Rxd6|fxe4|Bxe4+|Kg1|Bd3|Bxe5|Rg6+|Kf2                                                                                                                                                                                                                                                                                  |79        |\n",
            "|01db283e-d9c7-4f13-9cdc-2e25aae713d9|Gelfand,B             |d4|d5|c4|c6|Nf3|Nf6|Nc3|e6|Bg5|h6|Bh4|dxc4|e4|g5|Bg3|b5|Be2|Bb7|O-O|Nbd7|Ne5|h5|Nxd7|Qxd7|Qc1|Rg8|Rd1|Bb4|Qe3|Qe7|h3|h4|Bh2|Bxc3|bxc3|g4|Kh1|c5|hxg4|cxd4|Rxd4|e5|Rdd1|Nxg4|Bxg4|Rxg4|f3|Rg6|a4|a5|axb5|a4|Qe2|Qc5|Rab1|Rd6|Rxd6|Qxd6|Qxc4|a3|Ra1|h3|Qe2|hxg2+|Qxg2|O-O-O|Qa2|f5|Qxa3|fxe4|Qxd6|Rxd6|fxe4|Bxe4+|Kg1|Bd3|Bxe5|Rg6+|Kf2|Bxb5                                                                                                                                                                                                                                                                             |80        |\n",
            "|0217a4a4-d586-4446-9ca2-5da2fb83398d|Short, Nigel D        |e4|c6|d4|d5|e5|Bf5|Nf3|e6|a3|Nd7|c4|dxc4|Bxc4|Nb6|Bb3|Ne7|O-O|Ned5|Re1|Be7|Nbd2|O-O|Ne4|Nd7|h3|Rc8|Bd2|Bg6|Rc1|Qb6|Bg5|Bxg5|Nfxg5|h6|Nf3|Bh5|Nd6|Rcd8|g4|Bg6|Nh4|Bh7|Ng2|f6|Nc4|Qc7|Qe2|Kh8|f4|fxe5|fxe5|N7b6|Nd6|Nc8|Ne4|Nce7|Nc5|Qc8|Rf1|Ng6|Kh2|b6|Ne4|Qd7|Nd6|Rxf1|Rxf1|Rf8|Rxf8+|Nxf8|Qf3|Kg8|Ne3|Bg6|Ba4|Qc7|h4|Nxe3|Qxe3|h5|gxh5|Bxh5|b4|b5|Bb3|a5|Qg5|Bf7|h5|axb4|h6|Bg6|Bxe6+|Kh7|Bf7|gxh6|Qf6|bxa3|Bb3|Qg7|Qf4|Bb1|Qc1|a2|Bxa2|Bxa2|Qc2+|Qg6|Qxa2|Ne6|d5|cxd5|Qxd5|Qh5+|Kg3|Qg5+|Kf3|Qf4+|Ke2|Qg4+|Kd2|Qd4+|Qxd4|Nxd4|Kd3|Nc6|e6|Kg6|Nxb5|Kf6|Nd4                                                            |131       |\n",
            "|02797e38-3fa8-46f6-8b36-36361ac7fe58|Zelcic, Robert        |e4|c5|Nf3|Nc6|d4|cxd4|Nxd4|Nf6|Nc3|d6|Be2|e5|Nf3|h6|O-O|Be7|Re1|O-O|h3|Be6|Bf1|a6|a4|Rc8|b3|Qa5|Bb2|Rfd8|Qd2|Nb4|Rac1|d5|Nxd5|Nfxd5|exd5|Rxd5|Bd3|Nxd3|Qxa5|Rxa5|cxd3|Rxc1|Rxc1|Bxb3|Rc7|Bf6|Rxb7|Bxa4|d4|e4|Rb8+|Kh7|Ne5|Rb5|Rxb5|Bxb5|Nxf7|Kg6|Nd6|Bc6|g4|a5|Nc4|Bd5|Ne5+|Kh7|Ba3|Bd8|Kf1|h5|gxh5|Kh6|Ke2|Kxh5|f3|Kh4|Ng6+|Kg5|Ne5|Kf5|Bc5|a4|fxe4+|Kxe4|Kd2|Bg5+|Kc2|Be3|Kc3|a3|Ng4|a2|Kb2|Bd2|Nf2+                                                                                                                                                                                                                 |95        |\n",
            "|02797e38-3fa8-46f6-8b36-36361ac7fe58|Dreev, Alexey         |e4|c5|Nf3|Nc6|d4|cxd4|Nxd4|Nf6|Nc3|d6|Be2|e5|Nf3|h6|O-O|Be7|Re1|O-O|h3|Be6|Bf1|a6|a4|Rc8|b3|Qa5|Bb2|Rfd8|Qd2|Nb4|Rac1|d5|Nxd5|Nfxd5|exd5|Rxd5|Bd3|Nxd3|Qxa5|Rxa5|cxd3|Rxc1|Rxc1|Bxb3|Rc7|Bf6|Rxb7|Bxa4|d4|e4|Rb8+|Kh7|Ne5|Rb5|Rxb5|Bxb5|Nxf7|Kg6|Nd6|Bc6|g4|a5|Nc4|Bd5|Ne5+|Kh7|Ba3|Bd8|Kf1|h5|gxh5|Kh6|Ke2|Kxh5|f3|Kh4|Ng6+|Kg5|Ne5|Kf5|Bc5|a4|fxe4+|Kxe4|Kd2|Bg5+|Kc2|Be3|Kc3|a3|Ng4|a2|Kb2|Bd2|Nf2+|Ke3                                                                                                                                                                                                             |96        |\n",
            "|02a41983-fedb-4bd1-b4bd-341e3e40d836|Gelfand, Boris        |d4|d5|c4|c6|Nc3|Nf6|e3|e6|Nf3|Nbd7|Qc2|Bd6|Bd3|O-O|O-O|h6|b3|b6|Bb2|Bb7|Rfd1|Qe7|Qe2|Rfe8|cxd5|exd5|Ba6|Nf8|Rac1|Ng6|Bxb7|Qxb7|Rc2|Re6|Rdc1                                                                                                                                                                                                                                                                                                                                                                                                                                                                            |35        |\n",
            "|02cfde99-eace-4256-9123-7b244256dfd1|Kobese, Watu          |e4|c5|Nf3|e6|d4|cxd4|Nxd4|Nc6|Nc3|d6|g3|Nf6|Bg2|Bd7|O-O|Nxd4|Qxd4|Qc7|Nd1|Be7|Ne3|O-O|a4|Bc6|Bd2|Rfd8|Bc3|Ne8|Rfe1|Bf6|Qd3|Rac8|a5|a6|Bxf6|Nxf6|Qd4|d5|e5|Nd7|f4|Bb5|f5|Qxe5|Qxe5|Nxe5|fxe6|fxe6|Nxd5|exd5|Rxe5|Rxc2|Bxd5+|Kh8|Bxb7|Rxb2|Rxb5|Rxb5|Bxa6|Rb2|Bf1|Ra8|a6|g6|Bg2|Ra7|h4|Kg7|Kh2|h5|Kh3|Kh6|Ra3|Rb6|Bf1|Rb2|Bg2|Rb6|Bf1|Rb2|Bg2                                                                                                                                                                                                                                                                            |81        |\n",
            "|02d27637-16cd-4d9a-bf87-6052c191ef47|Euwe, Max             |d4|d5|c4|c6|Nf3|Nf6|e3|e6|Nc3|a6|c5|b6|cxb6|Nbd7|Na4|Nxb6|Bd2|Nxa4|Qxa4|Qb6|Rc1|Bd7|Ne5|Qxb2|Nxd7|Nxd7|Bd3|Rb8|Ke2|Rb6|Rb1|Qa3|Qxa3|Bxa3|Rxb6|Nxb6|Rb1|Nd7|Bxa6|Ke7|Rb3|Bd6|Bb7|c5|a4|Bb8|Rb5|Ba7|dxc5|Nxc5|Bb4|Kd6|a5|Kc7|Bxc5|Bxc5|Bxd5|Kd6|Bb7|Ba7|a6|Rd8|Rb2|Rd7|Rd2+|Ke7|Rc2|Rd6|Rc7+|Rd7|Rc2|Rd6|f4|f5|Rc8|Rd8|Rc7+|Rd7|Rc3|Rd6|Rc7+|Rd7|Rc3|Rd6|h4|g6|Rc2|h5|Rc3|Rb6|Rc7+|Kd6|Rg7|Rb2+|Kd3|Ra2|Rxg6|Ra3+|Kc4|Bxe3|Bd5|Bxf4|Rxe6+|Kc7|Rc6+|Kb8|Rg6|Bc7|Bb7|Ka7|Rg5|Bd8|Rxh5|Bxh4|Rxf5|Kb6|Rb5+|Kc7|Rb3|Ra5|Kd4|Bf2+|Ke4|Kd6|Rd3+|Ke6|Bc8+|Ke7|Rd5|Ra4+|Kf5|Bg3|Rd7+|Kf8|a7|Bf2|Ba6                               |137       |\n",
            "+------------------------------------+----------------------+-----------------------------------------------------------------------------------------------------------------------------------------------------------------------------------------------------------------------------------------------------------------------------------------------------------------------------------------------------------------------------------------------------------------------------------------------------------------------------------------------------------------------------------------------------------------------------------------------------------------------+----------+\n",
            "only showing top 20 rows\n",
            "\n"
          ]
        }
      ]
    },
    {
      "cell_type": "markdown",
      "source": [
        "### 11. Total Number of games where losing player has more Captured score than Winning player.\n",
        "Hint: Captured score is cumulative, i.e., for 3rd capture it will have score for 1, 2, and 3rd.\n",
        "Result attributes: total_number_of_games Final result will have only one row"
      ],
      "metadata": {
        "id": "7CEG5wzzdiCA"
      }
    },
    {
      "cell_type": "code",
      "source": [
        "spark.sql(\"\"\"\n",
        "\n",
        "with ldf as (SELECT *\n",
        "\n",
        "              FROM (SELECT *,\n",
        "\n",
        "                    max(move_no_pair) over (partition by game_id) as part\n",
        "\n",
        "                    FROM history_moves)\n",
        "\n",
        "              WHERE move_no_pair = part)\n",
        "\n",
        "\n",
        "SELECT count(*) as games_losing_player_has_more_Captured_score\n",
        "\n",
        "FROM (SELECT *,\n",
        "\n",
        "      CASE\n",
        "\n",
        "          WHEN (color = 'White') AND csw > csb THEN '1'\n",
        "\n",
        "          WHEN (color = 'Black') AND csb > csw THEN '1'\n",
        "\n",
        "          ELSE '0'\n",
        "\n",
        "      END AS tf\n",
        "\n",
        "      FROM (SELECT captured_score_for_white as csw, captured_score_for_black as csb, color\n",
        "\n",
        "            FROM ldf\n",
        "\n",
        "            LEFT JOIN game_info on ldf.game_id = game_info.game_id\n",
        "\n",
        "            WHERE player = loser))\n",
        "\n",
        "WHERE tf = '1'\n",
        "\n",
        "\"\"\").show(1000,truncate = False)\n"
      ],
      "metadata": {
        "colab": {
          "base_uri": "https://localhost:8080/"
        },
        "id": "PHnEhCELeMVo",
        "outputId": "62e4b4e7-d289-45e3-d136-6528f6972bff"
      },
      "execution_count": 35,
      "outputs": [
        {
          "output_type": "stream",
          "name": "stdout",
          "text": [
            "+-------------------------------------------+\n",
            "|games_losing_player_has_more_Captured_score|\n",
            "+-------------------------------------------+\n",
            "|85                                         |\n",
            "+-------------------------------------------+\n",
            "\n"
          ]
        }
      ]
    },
    {
      "cell_type": "markdown",
      "source": [
        "# CONCLUTION"
      ],
      "metadata": {
        "id": "6R5WIxXdUOX9"
      }
    },
    {
      "cell_type": "markdown",
      "source": [
        "### The above questions required proper level of understanding on the 3 tables that we got. being new to SQL lot of experience related to conditional Statements in SQL, joins, sub queries and also some complex WITH statements were learned and put to use. The most important part was all the questions were answred with the expectation set right. we also used union and we were in a situvation were OFFSET did not work and we used window function row_number() to solve the problem."
      ],
      "metadata": {
        "id": "FEaA3hUGURiV"
      }
    }
  ]
}